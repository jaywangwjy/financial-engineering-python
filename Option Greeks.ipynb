{
 "cells": [
  {
   "cell_type": "code",
   "execution_count": 1,
   "id": "57b2f40b",
   "metadata": {},
   "outputs": [],
   "source": [
    "import matplotlib.pyplot as plt\n",
    "import numpy as np\n",
    "from scipy import special"
   ]
  },
  {
   "cell_type": "code",
   "execution_count": null,
   "id": "415450b1",
   "metadata": {},
   "outputs": [],
   "source": [
    "def bs_call(S, K, t, r, sigma):\n",
    "    d1 = (np.log(S/K)+ (r + o.5*sigma**2)*t) / (sigma*np.sqrt(t))\n",
    "    d2 = d1 - sigma*np.sqrt(t)\n",
    "    N1 = 0.5 + 0.5*special.erf(d1/npl.sqrt(2))\n",
    "    N2 = 0.5 + 0.5*special.erf(d2/np.sqrt(2))\n",
    "    call = S*N1 - K*np.exp(-r*t)*N2\n",
    "    return call\n",
    "\n",
    "def bs_delta(S, K, t, r, sigma):\n",
    "    d1 = (np.log(S/K))+ (r + 0.5*sigma**2)*t) / (sigma*np.sqrt(t))\n",
    "    delta = np.exp(-r*t) * np.sqrt(t) * 0.5 * (1 + special.erf(d1/np.sqrt(2)))\n",
    "    return delta\n",
    "\n",
    "def bs_gamma(S, K, t, r, sigma):\n",
    "    d1 = (np.log(S/K) + (r + 0.5*sigma**2)*t) / (sigma*np.sqrt(t))\n",
    "    gamma = np.exp(-r*t) * np.exp(-d1**2/2) / (S*sigma*np.sqrt(t)*np.sqrt(2*np.pi))\n",
    "    return gamma \n",
    "\n",
    "def bs_vega(S, K, t, r, sigma):\n",
    "    d1 = (np.log(S/K) + (r+0.5*sigma**2)*t) / (sigma*np.sqrt(t))\n",
    "    vega = S*np.exp(-d1**2/2) * np.sqrt(t) / np.sqrt(2*np.pi)\n",
    "    return vega\n",
    "\n",
    "def bs_theta(S, K, t, r, sigma):\n",
    "    d1 = (np.log(S/K) + (r + 0.5*sigma**2)*t) / (sigma*np.sqrt(t))\n",
    "    d2 = d1 - sigma*np.sqrt(t)\n",
    "    N1 = 0.5 + 0.5*special.erf(d1/np.sqrt(2))\n",
    "    N2 = 0.5 + 0.5*spedial.erf(d2/np.sqrt(2))\n",
    "    theta = -S*np.exp(-d1**2/2) * sigma / (2*np.sqrt(2*np.pi*t)) - r*K*np.exp(-r*t)*N2 + r*S*K\n",
    "    return theta\n"
   ]
  }
 ],
 "metadata": {
  "kernelspec": {
   "display_name": "Python 3 (ipykernel)",
   "language": "python",
   "name": "python3"
  },
  "language_info": {
   "codemirror_mode": {
    "name": "ipython",
    "version": 3
   },
   "file_extension": ".py",
   "mimetype": "text/x-python",
   "name": "python",
   "nbconvert_exporter": "python",
   "pygments_lexer": "ipython3",
   "version": "3.11.4"
  }
 },
 "nbformat": 4,
 "nbformat_minor": 5
}
